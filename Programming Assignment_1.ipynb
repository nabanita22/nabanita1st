{
 "cells": [
  {
   "cell_type": "markdown",
   "id": "b26292ca",
   "metadata": {},
   "source": [
    "# 1. Write a Python program to print &quot;Hello Python&quot;?"
   ]
  },
  {
   "cell_type": "code",
   "execution_count": 1,
   "id": "38ff1dee",
   "metadata": {},
   "outputs": [],
   "source": [
    "def py_print():\n",
    "    print(\"hello python\")"
   ]
  },
  {
   "cell_type": "code",
   "execution_count": 2,
   "id": "aeb090d4",
   "metadata": {},
   "outputs": [
    {
     "name": "stdout",
     "output_type": "stream",
     "text": [
      "hello python\n"
     ]
    }
   ],
   "source": [
    "py_print()"
   ]
  },
  {
   "cell_type": "markdown",
   "id": "8d756da8",
   "metadata": {},
   "source": [
    "# 2. Write a Python program to do arithmetical operations addition and division.?"
   ]
  },
  {
   "cell_type": "code",
   "execution_count": 7,
   "id": "44019be2",
   "metadata": {},
   "outputs": [],
   "source": [
    "def add_div():\n",
    "    ask=input(\"for addition type 'add', for division type 'div'.:\\n\")\n",
    "    num=list(map(int,input(\"type the numbers delimitted by comma:\\n\").rstrip().split(\",\")))\n",
    "    add_total=0\n",
    "    div_final=1\n",
    "    if ask ==\"add\":\n",
    "        for i in num:\n",
    "            add_total+=i\n",
    "        return add_total\n",
    "    elif ask==\"div\":\n",
    "        for i in range (len(num)-1):\n",
    "            div_total=num[i]/num[(i+1)]\n",
    "            div_final=div_total/div_final\n",
    "        return div_final           \n",
    "            \n",
    "            \n",
    "\n",
    "    "
   ]
  },
  {
   "cell_type": "code",
   "execution_count": 8,
   "id": "09ad912a",
   "metadata": {},
   "outputs": [
    {
     "name": "stdout",
     "output_type": "stream",
     "text": [
      "for addition type 'add', for division type 'div'.:\n",
      "add\n",
      "type the numbers delimitted by comma:\n",
      "7,9,4\n"
     ]
    },
    {
     "data": {
      "text/plain": [
       "20"
      ]
     },
     "execution_count": 8,
     "metadata": {},
     "output_type": "execute_result"
    }
   ],
   "source": [
    "add_div()"
   ]
  },
  {
   "cell_type": "markdown",
   "id": "cb5e2b5e",
   "metadata": {},
   "source": [
    "# 3. Write a Python program to find the area of a triangle?"
   ]
  },
  {
   "cell_type": "code",
   "execution_count": 26,
   "id": "9ff3c297",
   "metadata": {},
   "outputs": [],
   "source": [
    "class Area_triangle:\n",
    "    def __init__(self,height,base):\n",
    "        self.height=height\n",
    "        self.base=base\n",
    "    def area1(self):\n",
    "        area=0.5*self.height*self.base\n",
    "        print (f'area of the triangle is {area} squnit')"
   ]
  },
  {
   "cell_type": "code",
   "execution_count": 27,
   "id": "c004fb06",
   "metadata": {},
   "outputs": [],
   "source": [
    "tri1=Area_triangle(12,20)"
   ]
  },
  {
   "cell_type": "code",
   "execution_count": 28,
   "id": "5df2be35",
   "metadata": {},
   "outputs": [
    {
     "name": "stdout",
     "output_type": "stream",
     "text": [
      "area of the triangle is 120.0 squnit\n"
     ]
    }
   ],
   "source": [
    "tri1.area1()"
   ]
  },
  {
   "cell_type": "markdown",
   "id": "ba2312e7",
   "metadata": {},
   "source": [
    "# 4. Write a Python program to swap two variables?"
   ]
  },
  {
   "cell_type": "code",
   "execution_count": 32,
   "id": "c6e95204",
   "metadata": {},
   "outputs": [],
   "source": [
    "def swap_vari(var1,var2):\n",
    "    var1=input(\"what is the value of var1?\")\n",
    "    var2=input(\"what is the value of var2?\")\n",
    "    var3=\"\"\n",
    "    var3=var2\n",
    "    var2=var1\n",
    "    var1=var3\n",
    "    print (f\"var1 = {var1}\\nvar2 = {var2}\")"
   ]
  },
  {
   "cell_type": "code",
   "execution_count": 33,
   "id": "60301a90",
   "metadata": {},
   "outputs": [
    {
     "name": "stdout",
     "output_type": "stream",
     "text": [
      "what is the value of var1?9\n",
      "what is the value of var2?10\n",
      "var1 = 10\n",
      "var2 = 9\n"
     ]
    }
   ],
   "source": [
    "swap_vari(\"var1\",\"var2\")"
   ]
  },
  {
   "cell_type": "markdown",
   "id": "69263048",
   "metadata": {},
   "source": [
    "# 5. Write a Python program to generate a random number?"
   ]
  },
  {
   "cell_type": "code",
   "execution_count": 37,
   "id": "7133ee02",
   "metadata": {},
   "outputs": [],
   "source": [
    "import random"
   ]
  },
  {
   "cell_type": "code",
   "execution_count": 41,
   "id": "4d95dcea",
   "metadata": {},
   "outputs": [
    {
     "name": "stdout",
     "output_type": "stream",
     "text": [
      "0.977801026655161\n"
     ]
    }
   ],
   "source": [
    "p=random.random()\n",
    "print(p)"
   ]
  },
  {
   "cell_type": "code",
   "execution_count": null,
   "id": "50fb6890",
   "metadata": {},
   "outputs": [],
   "source": []
  },
  {
   "cell_type": "code",
   "execution_count": null,
   "id": "af2d64fa",
   "metadata": {},
   "outputs": [],
   "source": []
  }
 ],
 "metadata": {
  "kernelspec": {
   "display_name": "Python 3 (ipykernel)",
   "language": "python",
   "name": "python3"
  },
  "language_info": {
   "codemirror_mode": {
    "name": "ipython",
    "version": 3
   },
   "file_extension": ".py",
   "mimetype": "text/x-python",
   "name": "python",
   "nbconvert_exporter": "python",
   "pygments_lexer": "ipython3",
   "version": "3.9.12"
  }
 },
 "nbformat": 4,
 "nbformat_minor": 5
}
