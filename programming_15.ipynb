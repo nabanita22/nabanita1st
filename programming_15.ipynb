{
 "cells": [
  {
   "cell_type": "markdown",
   "id": "ce33972d",
   "metadata": {},
   "source": [
    "# Question 1:\n",
    "Please write a program using generator to print the numbers which can be divisible by 5 and\n",
    "7 between 0 and n in comma separated form while n is input by console.\n",
    "Example:\n",
    "If the following n is given as input to the program:\n",
    "100\n",
    "Then, the output of the program should be:\n",
    "0,35,70"
   ]
  },
  {
   "cell_type": "markdown",
   "id": "a36b8d43",
   "metadata": {},
   "source": [
    "def div():\n",
    "    ask=int(input(\"give the number\"))\n",
    "    for i in range (ask+1):\n",
    "        if i%5==0 and i%7==0:\n",
    "            yield i"
   ]
  },
  {
   "cell_type": "code",
   "execution_count": 17,
   "id": "67c21be1",
   "metadata": {},
   "outputs": [
    {
     "name": "stdout",
     "output_type": "stream",
     "text": [
      "give the number10000\n",
      "[0, 35, 70, 105, 140, 175, 210, 245, 280, 315, 350, 385, 420, 455, 490, 525, 560, 595, 630, 665, 700, 735, 770, 805, 840, 875, 910, 945, 980, 1015, 1050, 1085, 1120, 1155, 1190, 1225, 1260, 1295, 1330, 1365, 1400, 1435, 1470, 1505, 1540, 1575, 1610, 1645, 1680, 1715, 1750, 1785, 1820, 1855, 1890, 1925, 1960, 1995, 2030, 2065, 2100, 2135, 2170, 2205, 2240, 2275, 2310, 2345, 2380, 2415, 2450, 2485, 2520, 2555, 2590, 2625, 2660, 2695, 2730, 2765, 2800, 2835, 2870, 2905, 2940, 2975, 3010, 3045, 3080, 3115, 3150, 3185, 3220, 3255, 3290, 3325, 3360, 3395, 3430, 3465, 3500, 3535, 3570, 3605, 3640, 3675, 3710, 3745, 3780, 3815, 3850, 3885, 3920, 3955, 3990, 4025, 4060, 4095, 4130, 4165, 4200, 4235, 4270, 4305, 4340, 4375, 4410, 4445, 4480, 4515, 4550, 4585, 4620, 4655, 4690, 4725, 4760, 4795, 4830, 4865, 4900, 4935, 4970, 5005, 5040, 5075, 5110, 5145, 5180, 5215, 5250, 5285, 5320, 5355, 5390, 5425, 5460, 5495, 5530, 5565, 5600, 5635, 5670, 5705, 5740, 5775, 5810, 5845, 5880, 5915, 5950, 5985, 6020, 6055, 6090, 6125, 6160, 6195, 6230, 6265, 6300, 6335, 6370, 6405, 6440, 6475, 6510, 6545, 6580, 6615, 6650, 6685, 6720, 6755, 6790, 6825, 6860, 6895, 6930, 6965, 7000, 7035, 7070, 7105, 7140, 7175, 7210, 7245, 7280, 7315, 7350, 7385, 7420, 7455, 7490, 7525, 7560, 7595, 7630, 7665, 7700, 7735, 7770, 7805, 7840, 7875, 7910, 7945, 7980, 8015, 8050, 8085, 8120, 8155, 8190, 8225, 8260, 8295, 8330, 8365, 8400, 8435, 8470, 8505, 8540, 8575, 8610, 8645, 8680, 8715, 8750, 8785, 8820, 8855, 8890, 8925, 8960, 8995, 9030, 9065, 9100, 9135, 9170, 9205, 9240, 9275, 9310, 9345, 9380, 9415, 9450, 9485, 9520, 9555, 9590, 9625, 9660, 9695, 9730, 9765, 9800, 9835, 9870, 9905, 9940, 9975]\n"
     ]
    }
   ],
   "source": [
    "a=div()\n",
    "print(list(a))"
   ]
  },
  {
   "cell_type": "markdown",
   "id": "2444bfd0",
   "metadata": {},
   "source": [
    "# Question 2:\n",
    "Please write a program using generator to print the even numbers between 0 and n in comma\n",
    "separated form while n is input by console.\n",
    "Example:\n",
    "If the following n is given as input to the program:\n",
    "10\n",
    "Then, the output of the program should be:\n",
    "0,2,4,6,8,10"
   ]
  },
  {
   "cell_type": "code",
   "execution_count": 21,
   "id": "5e245ce8",
   "metadata": {},
   "outputs": [],
   "source": [
    "def even():\n",
    "    num=int(input(\"give the number\"))\n",
    "    \n",
    "    for i in range(num+1):\n",
    "        if i%2==0:\n",
    "            yield i\n"
   ]
  },
  {
   "cell_type": "code",
   "execution_count": 25,
   "id": "35a10bad",
   "metadata": {},
   "outputs": [
    {
     "name": "stdout",
     "output_type": "stream",
     "text": [
      "give the number10\n",
      "(0, 2, 4, 6, 8, 10)\n"
     ]
    }
   ],
   "source": [
    "b=even()\n",
    "print(tuple(b))"
   ]
  },
  {
   "cell_type": "markdown",
   "id": "d7b77f2a",
   "metadata": {},
   "source": [
    "# Question 3:\n",
    "The Fibonacci Sequence is computed based on the following formula:\n",
    "f(n)=0 if n=0\n",
    "f(n)=1 if n=1\n",
    "f(n)=f(n-1)+f(n-2) if n&gt;1\n",
    "Please write a program using list comprehension to print the Fibonacci Sequence in comma\n",
    "separated form with a given n input by console.\n",
    "Example:\n",
    "If the following n is given as input to the program: 7\n",
    "Then, the output of the program should be:\n",
    "0,1,1,2,3,5,8,13"
   ]
  },
  {
   "cell_type": "code",
   "execution_count": 30,
   "id": "fd55bb09",
   "metadata": {},
   "outputs": [
    {
     "name": "stdout",
     "output_type": "stream",
     "text": [
      "[1, 1, 2, 3, 5, 8, 13, 21, 34, 55]\n"
     ]
    }
   ],
   "source": [
    "def fib_generator(n):\n",
    "\n",
    "    def fib_n_generator():\n",
    "        last = 1\n",
    "        curr = 1\n",
    "\n",
    "        if n == 0:\n",
    "            return\n",
    "\n",
    "        yield last\n",
    "        if n == 1:\n",
    "            return\n",
    "\n",
    "        yield curr\n",
    "        if n == 2:\n",
    "            return\n",
    "\n",
    "        ii = 2\n",
    "        while ii < n:\n",
    "            next = curr + last\n",
    "            yield next\n",
    "            last = curr\n",
    "            curr = next\n",
    "            ii += 1\n",
    "\n",
    "    return fib_n_generator()\n",
    "\n",
    "fib = [xx for xx in fib_generator(10)]\n",
    "print(fib)"
   ]
  },
  {
   "cell_type": "markdown",
   "id": "1cd074fa",
   "metadata": {},
   "source": [
    "# Question 4:\n",
    "Assuming that we have some email addresses in the &quot;username@companyname.com&quot; format,\n",
    "please write program to print the user name of a given email address. Both user names and\n",
    "company names are composed of letters only.\n",
    "Example:\n",
    "If the following email address is given as input to the program:\n",
    "john@google.com\n",
    "Then, the output of the program should be:\n",
    "john"
   ]
  },
  {
   "cell_type": "code",
   "execution_count": 47,
   "id": "43508d76",
   "metadata": {},
   "outputs": [],
   "source": [
    "def name():\n",
    "    name=\"\"\n",
    "    ask_gmail=input(\"give the email address:\\n\")\n",
    "    for p in ask_gmail:\n",
    "        if p.isalpha()==True:\n",
    "            name+=p\n",
    "        if p in [\"_\",\".\"]:\n",
    "            name+=\" \"\n",
    "        if p==\"@\":\n",
    "            break\n",
    "    return name\n",
    "        "
   ]
  },
  {
   "cell_type": "code",
   "execution_count": 48,
   "id": "0d218e7a",
   "metadata": {},
   "outputs": [
    {
     "name": "stdout",
     "output_type": "stream",
     "text": [
      "give the email address:\n",
      "iamthetutul@gmail.com\n"
     ]
    },
    {
     "data": {
      "text/plain": [
       "'iamthetutul'"
      ]
     },
     "execution_count": 48,
     "metadata": {},
     "output_type": "execute_result"
    }
   ],
   "source": [
    "name()"
   ]
  },
  {
   "cell_type": "markdown",
   "id": "2a9184eb",
   "metadata": {},
   "source": [
    "# Question 5:\n",
    "Define a class named Shape and its subclass Square. The Square class has an init function\n",
    "which takes a length as argument. Both classes have a area function which can print the area\n",
    "of the shape where Shape&#39;s area is 0 by default."
   ]
  },
  {
   "cell_type": "code",
   "execution_count": 54,
   "id": "53f22814",
   "metadata": {},
   "outputs": [],
   "source": [
    "class Shape:\n",
    "    def area_shape(self):\n",
    "        self.area=0\n",
    "        return self.area\n",
    "class square(Shape):\n",
    "    def __init__(self,length):\n",
    "        self.length=length\n",
    "        \n",
    "    def area_square(self):\n",
    "        area=self.length*self.length\n",
    "        return area\n",
    "        \n",
    "\n",
    "        "
   ]
  },
  {
   "cell_type": "code",
   "execution_count": 55,
   "id": "33a3c62a",
   "metadata": {},
   "outputs": [],
   "source": [
    "s1=square(3)"
   ]
  },
  {
   "cell_type": "code",
   "execution_count": 56,
   "id": "7ed46cd8",
   "metadata": {},
   "outputs": [
    {
     "data": {
      "text/plain": [
       "0"
      ]
     },
     "execution_count": 56,
     "metadata": {},
     "output_type": "execute_result"
    }
   ],
   "source": [
    "s1.area_shape()"
   ]
  },
  {
   "cell_type": "code",
   "execution_count": 57,
   "id": "fe6ce6c4",
   "metadata": {},
   "outputs": [
    {
     "data": {
      "text/plain": [
       "9"
      ]
     },
     "execution_count": 57,
     "metadata": {},
     "output_type": "execute_result"
    }
   ],
   "source": [
    "s1.area_square()"
   ]
  },
  {
   "cell_type": "code",
   "execution_count": null,
   "id": "6942c1f7",
   "metadata": {},
   "outputs": [],
   "source": []
  }
 ],
 "metadata": {
  "kernelspec": {
   "display_name": "Python 3 (ipykernel)",
   "language": "python",
   "name": "python3"
  },
  "language_info": {
   "codemirror_mode": {
    "name": "ipython",
    "version": 3
   },
   "file_extension": ".py",
   "mimetype": "text/x-python",
   "name": "python",
   "nbconvert_exporter": "python",
   "pygments_lexer": "ipython3",
   "version": "3.9.12"
  }
 },
 "nbformat": 4,
 "nbformat_minor": 5
}
