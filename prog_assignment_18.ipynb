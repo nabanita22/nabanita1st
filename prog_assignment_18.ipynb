{
 "cells": [
  {
   "cell_type": "markdown",
   "id": "2261c09f",
   "metadata": {},
   "source": [
    "# Question 1\n",
    "Create a function that takes a list of non-negative integers and strings and return a new list\n",
    "without the strings.\n",
    "Examples\n",
    "filter_list([1, 2, &quot;a&quot;, &quot;b&quot;]) ➞ [1, 2]\n",
    "filter_list([1, &quot;a&quot;, &quot;b&quot;, 0, 15]) ➞ [1, 0, 15]\n",
    "filter_list([1, 2, &quot;aasf&quot;, &quot;1&quot;, &quot;123&quot;, 123]) ➞ [1, 2, 123]"
   ]
  },
  {
   "cell_type": "code",
   "execution_count": 1,
   "id": "55de81ee",
   "metadata": {},
   "outputs": [],
   "source": [
    "def filter_list(a):\n",
    "    l=[]\n",
    "    for i in a:\n",
    "        if type(i)==int and i not in l:\n",
    "            l.append(i)\n",
    "    return l"
   ]
  },
  {
   "cell_type": "code",
   "execution_count": 2,
   "id": "79dd0972",
   "metadata": {},
   "outputs": [
    {
     "data": {
      "text/plain": [
       "[1, 2]"
      ]
     },
     "execution_count": 2,
     "metadata": {},
     "output_type": "execute_result"
    }
   ],
   "source": [
    "filter_list([1,2,\"a\",\"b\"])"
   ]
  },
  {
   "cell_type": "code",
   "execution_count": 3,
   "id": "8a11fa60",
   "metadata": {},
   "outputs": [
    {
     "data": {
      "text/plain": [
       "[1, 2, 123]"
      ]
     },
     "execution_count": 3,
     "metadata": {},
     "output_type": "execute_result"
    }
   ],
   "source": [
    "filter_list([1,2,\"aasf\",1,\"123\",123])"
   ]
  },
  {
   "cell_type": "markdown",
   "id": "92bab41e",
   "metadata": {},
   "source": [
    "# Question 2\n",
    "The &quot;Reverser&quot; takes a string as input and returns that string in reverse order, with the\n",
    "opposite case.\n",
    "Examples\n",
    "reverse(&quot;Hello World&quot;) ➞ &quot;DLROw OLLEh&quot;\n",
    "reverse(&quot;ReVeRsE&quot;) ➞ &quot;eSrEvEr&quot;\n",
    "reverse(&quot;Radar&quot;) ➞ &quot;RADAr&quot;"
   ]
  },
  {
   "cell_type": "code",
   "execution_count": 19,
   "id": "7b3989ba",
   "metadata": {},
   "outputs": [],
   "source": [
    "def reverse(a):\n",
    "    new_a=\"\"\n",
    "    for i in range(len(a)-1,-1,-1):\n",
    "        \n",
    "        if a[i].isupper()==True:\n",
    "            b=a[i].lower()\n",
    "            new_a+=b\n",
    "        else:\n",
    "            new_a+=a[i].upper()\n",
    "    return new_a"
   ]
  },
  {
   "cell_type": "code",
   "execution_count": 20,
   "id": "c27276e4",
   "metadata": {},
   "outputs": [
    {
     "data": {
      "text/plain": [
       "'DLROw OLLEh'"
      ]
     },
     "execution_count": 20,
     "metadata": {},
     "output_type": "execute_result"
    }
   ],
   "source": [
    "reverse(\"Hello World\")"
   ]
  },
  {
   "cell_type": "code",
   "execution_count": 21,
   "id": "9a835279",
   "metadata": {},
   "outputs": [
    {
     "data": {
      "text/plain": [
       "'eSrEvEr'"
      ]
     },
     "execution_count": 21,
     "metadata": {},
     "output_type": "execute_result"
    }
   ],
   "source": [
    "reverse(\"ReVeRsE\")"
   ]
  },
  {
   "cell_type": "markdown",
   "id": "00dab96d",
   "metadata": {},
   "source": [
    "# Question 3\n",
    "You can assign variables from lists like this:\n",
    "lst = [1, 2, 3, 4, 5, 6]\n",
    "first = lst[0]\n",
    "middle = lst[1:-1]\n",
    "last = lst[-1]\n",
    "print(first) ➞ outputs 1\n",
    "print(middle) ➞ outputs [2, 3, 4, 5]\n",
    "print(last) ➞ outputs 6\n",
    "With Python 3, you can assign variables from lists in a much more succinct way. Create\n",
    "variables first, middle and last from the given list using destructuring assignment\n",
    "(check the Resources tab for some examples), where:\n",
    "first ➞ 1\n",
    "middle ➞ [2, 3, 4, 5]\n",
    "last ➞ 6\n",
    "Your task is to unpack the list writeyourcodehere into three variables, being first,\n",
    "middle, and last, with middle being everything in between the first and last element. Then\n",
    "print all three variables."
   ]
  },
  {
   "cell_type": "code",
   "execution_count": 22,
   "id": "d047ee15",
   "metadata": {},
   "outputs": [],
   "source": [
    "def unpack(a):\n",
    "    first=a[0]\n",
    "    middle=a[1:-1]\n",
    "    last=a[-1]\n",
    "    \n",
    "    print (f\"first={first}\\nmiddle={middle}\\nlast={last}\")\n",
    "    "
   ]
  },
  {
   "cell_type": "code",
   "execution_count": 23,
   "id": "684c5ed3",
   "metadata": {},
   "outputs": [
    {
     "name": "stdout",
     "output_type": "stream",
     "text": [
      "first=1\n",
      "middle=[2, 3, 4, 5]\n",
      "last=6\n"
     ]
    }
   ],
   "source": [
    "unpack([1,2,3,4,5,6])"
   ]
  },
  {
   "cell_type": "markdown",
   "id": "0e94c45c",
   "metadata": {},
   "source": [
    "# Question 4\n",
    "Write a function that calculates the factorial of a number recursively.\n",
    "Examples\n",
    "factorial(5) ➞ 120\n",
    "factorial(3) ➞ 6\n",
    "factorial(1) ➞ 1\n",
    "factorial(0) ➞ 1"
   ]
  },
  {
   "cell_type": "code",
   "execution_count": 24,
   "id": "b3dc8a00",
   "metadata": {},
   "outputs": [],
   "source": [
    "def facto(n):\n",
    "    count=1\n",
    "    for i in range(1,n+1):\n",
    "        count=count*i\n",
    "    return count"
   ]
  },
  {
   "cell_type": "code",
   "execution_count": 26,
   "id": "3341d53a",
   "metadata": {},
   "outputs": [
    {
     "data": {
      "text/plain": [
       "120"
      ]
     },
     "execution_count": 26,
     "metadata": {},
     "output_type": "execute_result"
    }
   ],
   "source": [
    "facto(5)"
   ]
  },
  {
   "cell_type": "markdown",
   "id": "ae3e74e5",
   "metadata": {},
   "source": [
    "# Question 5\n",
    "Write a function that moves all elements of one type to the end of the list.\n",
    "Examples\n",
    "move_to_end([1, 3, 2, 4, 4, 1], 1) ➞ [3, 2, 4, 4, 1, 1]\n",
    "# Move all the 1s to the end of the array.\n",
    "move_to_end([7, 8, 9, 1, 2, 3, 4], 9) ➞ [7, 8, 1, 2, 3, 4, 9]\n",
    "move_to_end([&quot;a&quot;, &quot;a&quot;, &quot;a&quot;, &quot;b&quot;], &quot;a&quot;) ➞ [&quot;b&quot;, &quot;a&quot;, &quot;a&quot;, &quot;a&quot;]"
   ]
  },
  {
   "cell_type": "code",
   "execution_count": 33,
   "id": "173fb85f",
   "metadata": {},
   "outputs": [],
   "source": [
    "def move_to_end(a,b):\n",
    "    #a.append(b)\n",
    "    l_sort=[]\n",
    "    for i in a:\n",
    "        if i==b:\n",
    "            pass\n",
    "        else:\n",
    "            l_sort.append(i)\n",
    "    for i in a:\n",
    "        if i ==b:\n",
    "            l_sort.append(i)\n",
    "\n",
    "    return l_sort"
   ]
  },
  {
   "cell_type": "code",
   "execution_count": 34,
   "id": "34ff0c60",
   "metadata": {},
   "outputs": [
    {
     "data": {
      "text/plain": [
       "['b', 'a', 'a', 'a']"
      ]
     },
     "execution_count": 34,
     "metadata": {},
     "output_type": "execute_result"
    }
   ],
   "source": [
    "move_to_end([\"a\",\"a\",\"a\",\"b\"],\"a\")"
   ]
  },
  {
   "cell_type": "code",
   "execution_count": 35,
   "id": "5434749a",
   "metadata": {},
   "outputs": [
    {
     "data": {
      "text/plain": [
       "[3, 2, 4, 4, 1, 1]"
      ]
     },
     "execution_count": 35,
     "metadata": {},
     "output_type": "execute_result"
    }
   ],
   "source": [
    "move_to_end([1,3,2,4,4,1],1)"
   ]
  },
  {
   "cell_type": "code",
   "execution_count": null,
   "id": "bb6c3bb1",
   "metadata": {},
   "outputs": [],
   "source": []
  }
 ],
 "metadata": {
  "kernelspec": {
   "display_name": "Python 3 (ipykernel)",
   "language": "python",
   "name": "python3"
  },
  "language_info": {
   "codemirror_mode": {
    "name": "ipython",
    "version": 3
   },
   "file_extension": ".py",
   "mimetype": "text/x-python",
   "name": "python",
   "nbconvert_exporter": "python",
   "pygments_lexer": "ipython3",
   "version": "3.9.12"
  }
 },
 "nbformat": 4,
 "nbformat_minor": 5
}
