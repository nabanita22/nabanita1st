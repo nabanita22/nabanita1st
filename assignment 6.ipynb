{
 "cells": [
  {
   "cell_type": "markdown",
   "id": "3a225a8c",
   "metadata": {},
   "source": [
    "# 1. What are escape characters, and how do you use them?"
   ]
  },
  {
   "cell_type": "markdown",
   "id": "bb281446",
   "metadata": {},
   "source": [
    "- anything written after a \"\\\" is considered to be an escape charecter.\n",
    "- some escape charecters are \\n,\\t,\\r,\\b,\\\\,\\ooo "
   ]
  },
  {
   "cell_type": "markdown",
   "id": "8152e7ae",
   "metadata": {},
   "source": [
    "## uses"
   ]
  },
  {
   "cell_type": "code",
   "execution_count": 1,
   "id": "0f700fca",
   "metadata": {},
   "outputs": [
    {
     "name": "stdout",
     "output_type": "stream",
     "text": [
      "hello\n",
      "world\n"
     ]
    }
   ],
   "source": [
    "print(\"hello\\nworld\")"
   ]
  },
  {
   "cell_type": "code",
   "execution_count": 4,
   "id": "9029a72d",
   "metadata": {},
   "outputs": [
    {
     "name": "stdout",
     "output_type": "stream",
     "text": [
      "hello \"nabanita\" welcome to ineuron.\n"
     ]
    }
   ],
   "source": [
    "print(\"hello \\\"nabanita\\\" welcome to ineuron.\")"
   ]
  },
  {
   "cell_type": "markdown",
   "id": "b0e9800d",
   "metadata": {},
   "source": [
    "# 2. What do the escape characters n and t stand for?\n",
    "\n",
    "- n stands for new line\n",
    "- t stands for new tab"
   ]
  },
  {
   "cell_type": "markdown",
   "id": "bb3a942b",
   "metadata": {},
   "source": [
    "# 3. What is the way to include backslash characters in a string?"
   ]
  },
  {
   "cell_type": "code",
   "execution_count": 5,
   "id": "4f1b1c01",
   "metadata": {},
   "outputs": [
    {
     "name": "stdout",
     "output_type": "stream",
     "text": [
      "hello\\nabanita\n"
     ]
    }
   ],
   "source": [
    "print(\"hello\\\\nabanita\")"
   ]
  },
  {
   "cell_type": "markdown",
   "id": "505634b3",
   "metadata": {},
   "source": [
    "# 4. The string &quot;Howl's Moving Castle&quot; is a correct value. Why isn't the single quote character in the\n",
    "# word Howl's not escaped a problem?"
   ]
  },
  {
   "cell_type": "markdown",
   "id": "387b6ccb",
   "metadata": {},
   "source": [
    "- the string is quoted within double quotation."
   ]
  },
  {
   "cell_type": "markdown",
   "id": "fb4ae08c",
   "metadata": {},
   "source": [
    "# 5. How do you write a string of newlines if you don&#39;t want to use the n character?\n",
    "\n",
    "- \\r will be used."
   ]
  },
  {
   "cell_type": "markdown",
   "id": "6436863a",
   "metadata": {},
   "source": [
    "# 6. What are the values of the given expressions?\n",
    "# \"Hello, world\"[1]\n",
    "# \"Hello, world\"[0:5]\n",
    "# \"Hello, world\"[:5]\n",
    "# \"Hello, world\"[3:]"
   ]
  },
  {
   "cell_type": "code",
   "execution_count": 13,
   "id": "fa7329b4",
   "metadata": {},
   "outputs": [
    {
     "name": "stdout",
     "output_type": "stream",
     "text": [
      "e will be printed for hello,world[1]\n",
      "hello will be printed for hello,world[0:5]\n",
      "hello will be printed for hello,world[:5]\n",
      "lo,world will be printed for hello,world[3:]\n"
     ]
    }
   ],
   "source": [
    "\n",
    "a=\"hello,world\"\n",
    "b=\" will be printed for \"\n",
    "print(a[1] + b + a+\"[1]\")\n",
    "print(a[0:5]+b+a+\"[0:5]\")\n",
    "print(a[:5]+b+a+\"[:5]\")\n",
    "print(a[3:]+b+a+\"[3:]\")"
   ]
  },
  {
   "cell_type": "markdown",
   "id": "7d682579",
   "metadata": {},
   "source": [
    "# 7. What are the values of the following expressions?\n",
    "# \"Hello\".upper()\n",
    "# \"Hello\".upper().isupper()\n",
    "# \"Hello\".upper().lower()"
   ]
  },
  {
   "cell_type": "code",
   "execution_count": 14,
   "id": "ca2724b3",
   "metadata": {},
   "outputs": [
    {
     "data": {
      "text/plain": [
       "'HELLO'"
      ]
     },
     "execution_count": 14,
     "metadata": {},
     "output_type": "execute_result"
    }
   ],
   "source": [
    "\"hello\".upper()"
   ]
  },
  {
   "cell_type": "code",
   "execution_count": 15,
   "id": "2a87b52d",
   "metadata": {},
   "outputs": [
    {
     "data": {
      "text/plain": [
       "True"
      ]
     },
     "execution_count": 15,
     "metadata": {},
     "output_type": "execute_result"
    }
   ],
   "source": [
    "\"hello\".upper().isupper()"
   ]
  },
  {
   "cell_type": "code",
   "execution_count": 16,
   "id": "90e7f8f5",
   "metadata": {},
   "outputs": [
    {
     "data": {
      "text/plain": [
       "'hello'"
      ]
     },
     "execution_count": 16,
     "metadata": {},
     "output_type": "execute_result"
    }
   ],
   "source": [
    "\"hello\".upper().lower()"
   ]
  },
  {
   "cell_type": "markdown",
   "id": "0a280337",
   "metadata": {},
   "source": [
    "# 8. What are the values of the following expressions?\n",
    "# 'Remember, remember, the fifth of July.'.split()\n",
    "# '_'.join('There can only one.'split())"
   ]
  },
  {
   "cell_type": "code",
   "execution_count": 17,
   "id": "72da39ab",
   "metadata": {},
   "outputs": [
    {
     "data": {
      "text/plain": [
       "['Remember,', 'remember,', 'the', 'fifth', 'of', 'July.']"
      ]
     },
     "execution_count": 17,
     "metadata": {},
     "output_type": "execute_result"
    }
   ],
   "source": [
    "'Remember, remember, the fifth of July.'.split()"
   ]
  },
  {
   "cell_type": "code",
   "execution_count": 24,
   "id": "ff402890",
   "metadata": {},
   "outputs": [
    {
     "data": {
      "text/plain": [
       "'There_can_only_one.'"
      ]
     },
     "execution_count": 24,
     "metadata": {},
     "output_type": "execute_result"
    }
   ],
   "source": [
    "\"_\".join('There can only one.'.split())"
   ]
  },
  {
   "cell_type": "markdown",
   "id": "b3845bfb",
   "metadata": {},
   "source": [
    "# 9. What are the methods for right-justifying, left-justifying, and centering a string?\n",
    "\n",
    "- we can use rjust,ljust and center function"
   ]
  },
  {
   "cell_type": "code",
   "execution_count": 28,
   "id": "c077ac45",
   "metadata": {},
   "outputs": [
    {
     "name": "stdout",
     "output_type": "stream",
     "text": [
      "@@@@@@@nabanita saha\n"
     ]
    }
   ],
   "source": [
    "a=\"nabanita saha\"\n",
    "\n",
    "b=a.rjust(20,\"@\")\n",
    "print(b)"
   ]
  },
  {
   "cell_type": "code",
   "execution_count": 29,
   "id": "3f4f7ca2",
   "metadata": {},
   "outputs": [
    {
     "name": "stdout",
     "output_type": "stream",
     "text": [
      "nabanita saha#######\n"
     ]
    }
   ],
   "source": [
    "b=a.ljust(20,\"#\")\n",
    "print(b)"
   ]
  },
  {
   "cell_type": "code",
   "execution_count": 30,
   "id": "b64b1582",
   "metadata": {},
   "outputs": [
    {
     "name": "stdout",
     "output_type": "stream",
     "text": [
      "!!!nabanita saha!!!!\n"
     ]
    }
   ],
   "source": [
    "b=a.center(20,\"!\")\n",
    "print(b)"
   ]
  },
  {
   "cell_type": "markdown",
   "id": "aec16733",
   "metadata": {},
   "source": [
    "# 10. What is the best way to remove whitespace characters from the start or end?\n",
    "\n",
    "- using rstrip and lstrip function"
   ]
  },
  {
   "cell_type": "code",
   "execution_count": null,
   "id": "91948b77",
   "metadata": {},
   "outputs": [],
   "source": []
  }
 ],
 "metadata": {
  "kernelspec": {
   "display_name": "Python 3 (ipykernel)",
   "language": "python",
   "name": "python3"
  },
  "language_info": {
   "codemirror_mode": {
    "name": "ipython",
    "version": 3
   },
   "file_extension": ".py",
   "mimetype": "text/x-python",
   "name": "python",
   "nbconvert_exporter": "python",
   "pygments_lexer": "ipython3",
   "version": "3.9.12"
  }
 },
 "nbformat": 4,
 "nbformat_minor": 5
}
