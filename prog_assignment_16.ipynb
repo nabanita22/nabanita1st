{
 "cells": [
  {
   "cell_type": "markdown",
   "id": "cbfa659f",
   "metadata": {},
   "source": [
    "# Question1. Write a function that stutters a word as if someone is struggling to read it. The\n",
    "first two letters are repeated twice with an ellipsis ... and space after each, and then the\n",
    "word is pronounced with a question mark ?.\n",
    "Examples\n",
    "stutter(&quot;incredible&quot;) ➞ &quot;in... in... incredible?&quot;\n",
    "stutter(&quot;enthusiastic&quot;) ➞ &quot;en... en... enthusiastic?&quot;\n",
    "stutter(&quot;outstanding&quot;) ➞ &quot;ou... ou... outstanding?&quot;"
   ]
  },
  {
   "cell_type": "code",
   "execution_count": 3,
   "id": "89719609",
   "metadata": {},
   "outputs": [],
   "source": [
    "def shutter(a):\n",
    "    new=a[:2]+\"...\"+a[:2]+\"...\"+a+\"?\"\n",
    "    return new"
   ]
  },
  {
   "cell_type": "code",
   "execution_count": 4,
   "id": "6f3e0cf4",
   "metadata": {},
   "outputs": [
    {
     "data": {
      "text/plain": [
       "'in...in...incredible?'"
      ]
     },
     "execution_count": 4,
     "metadata": {},
     "output_type": "execute_result"
    }
   ],
   "source": [
    "shutter(\"incredible\")"
   ]
  },
  {
   "cell_type": "markdown",
   "id": "ff0d5a76",
   "metadata": {},
   "source": [
    "# Question 2.Create a function that takes an angle in radians and returns the corresponding\n",
    "angle in degrees rounded to one decimal place.\n",
    "Examples\n",
    "radians_to_degrees(1) ➞ 57.3\n",
    "radians_to_degrees(20) ➞ 1145.9\n",
    "radians_to_degrees(50) ➞ 2864.8"
   ]
  },
  {
   "cell_type": "code",
   "execution_count": 5,
   "id": "5d5286d3",
   "metadata": {},
   "outputs": [],
   "source": [
    "#1 radian=57.2958 degree\n",
    "def radians_to_degrees(a):\n",
    "    degree=a*57.2958\n",
    "    print(round(degree,1))"
   ]
  },
  {
   "cell_type": "code",
   "execution_count": 7,
   "id": "a90deb59",
   "metadata": {},
   "outputs": [
    {
     "name": "stdout",
     "output_type": "stream",
     "text": [
      "1145.9\n"
     ]
    }
   ],
   "source": [
    "radians_to_degrees(20)"
   ]
  },
  {
   "cell_type": "markdown",
   "id": "01f284ad",
   "metadata": {},
   "source": [
    "# Question 3. In this challenge, establish if a given integer num is a Curzon number. If 1 plus\n",
    "2 elevated to num is exactly divisible by 1 plus 2 multiplied by num, then num is a Curzon\n",
    "number.\n",
    "Given a non-negative integer num, implement a function that returns True if num is a Curzon\n",
    "number, or False otherwise.\n",
    "Examples\n",
    "is_curzon(5) ➞ True\n",
    "# 2 ** 5 + 1 = 33\n",
    "# 2 * 5 + 1 = 11\n",
    "# 33 is a multiple of 11\n",
    "is_curzon(10) ➞ False\n",
    "# 2 ** 10 + 1 = 1025\n",
    "# 2 * 10 + 1 = 21\n",
    "# 1025 is not a multiple of 21\n",
    "is_curzon(14) ➞ True\n",
    "# 2 ** 14 + 1 = 16385\n",
    "# 2 * 14 + 1 = 29\n",
    "# 16385 is a multiple of 29"
   ]
  },
  {
   "cell_type": "code",
   "execution_count": 8,
   "id": "4a4d7c9b",
   "metadata": {},
   "outputs": [],
   "source": [
    "def is_curzon(a):\n",
    "    val1=2**a+1\n",
    "    val2=2*a+1\n",
    "    if val1%val2==0:\n",
    "        print(\"True\")\n",
    "    else:\n",
    "        print(\"False\")"
   ]
  },
  {
   "cell_type": "code",
   "execution_count": 9,
   "id": "f23be134",
   "metadata": {},
   "outputs": [
    {
     "name": "stdout",
     "output_type": "stream",
     "text": [
      "True\n"
     ]
    }
   ],
   "source": [
    "is_curzon(5)"
   ]
  },
  {
   "cell_type": "code",
   "execution_count": 11,
   "id": "b4d47232",
   "metadata": {},
   "outputs": [
    {
     "name": "stdout",
     "output_type": "stream",
     "text": [
      "False\n"
     ]
    }
   ],
   "source": [
    "is_curzon(10)"
   ]
  },
  {
   "cell_type": "markdown",
   "id": "89ce0513",
   "metadata": {},
   "source": [
    "# Question 4.Given the side length x find the area of a hexagon."
   ]
  },
  {
   "cell_type": "code",
   "execution_count": 16,
   "id": "90a66a03",
   "metadata": {},
   "outputs": [],
   "source": [
    "def hexa_area(a):\n",
    "    area=2.598076*a**2\n",
    "    return round(area,1)\n"
   ]
  },
  {
   "cell_type": "code",
   "execution_count": 17,
   "id": "2cd22306",
   "metadata": {},
   "outputs": [
    {
     "data": {
      "text/plain": [
       "23.4"
      ]
     },
     "execution_count": 17,
     "metadata": {},
     "output_type": "execute_result"
    }
   ],
   "source": [
    "hexa_area(3)"
   ]
  },
  {
   "cell_type": "code",
   "execution_count": null,
   "id": "53e3ac02",
   "metadata": {},
   "outputs": [],
   "source": []
  }
 ],
 "metadata": {
  "kernelspec": {
   "display_name": "Python 3 (ipykernel)",
   "language": "python",
   "name": "python3"
  },
  "language_info": {
   "codemirror_mode": {
    "name": "ipython",
    "version": 3
   },
   "file_extension": ".py",
   "mimetype": "text/x-python",
   "name": "python",
   "nbconvert_exporter": "python",
   "pygments_lexer": "ipython3",
   "version": "3.9.12"
  }
 },
 "nbformat": 4,
 "nbformat_minor": 5
}
