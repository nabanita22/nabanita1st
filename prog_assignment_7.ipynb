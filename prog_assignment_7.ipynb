{
 "cells": [
  {
   "cell_type": "markdown",
   "id": "f698c04f",
   "metadata": {},
   "source": [
    "# 1. Write a Python Program to find sum of array?"
   ]
  },
  {
   "cell_type": "code",
   "execution_count": 2,
   "id": "785f52a7",
   "metadata": {},
   "outputs": [
    {
     "name": "stdout",
     "output_type": "stream",
     "text": [
      "give the numbers1,2,3,4,5,6,7,8\n",
      "36\n"
     ]
    }
   ],
   "source": [
    "num=list(map(int,input(\"give the numbers\").strip().split(\",\")))\n",
    "sum_num=sum(num)\n",
    "print(sum_num)"
   ]
  },
  {
   "cell_type": "markdown",
   "id": "f8cc0a90",
   "metadata": {},
   "source": [
    "# 2. Write a Python Program to find largest element in an array?"
   ]
  },
  {
   "cell_type": "code",
   "execution_count": 3,
   "id": "84ce4a78",
   "metadata": {},
   "outputs": [
    {
     "name": "stdout",
     "output_type": "stream",
     "text": [
      "give the numbers1,2,3,81,6,7,8\n",
      "81\n"
     ]
    }
   ],
   "source": [
    "num=list(map(int,input(\"give the numbers\").strip().split(\",\")))\n",
    "max_num=max(num)\n",
    "print(max_num)"
   ]
  },
  {
   "cell_type": "markdown",
   "id": "dc787272",
   "metadata": {},
   "source": [
    "# 3. Write a Python Program for array rotation?"
   ]
  },
  {
   "cell_type": "code",
   "execution_count": 12,
   "id": "dc9ec9fe",
   "metadata": {},
   "outputs": [
    {
     "name": "stdout",
     "output_type": "stream",
     "text": [
      "give the numbers1,2,3,4,5,6,7\n"
     ]
    },
    {
     "data": {
      "text/plain": [
       "[7, 6, 5, 4, 3, 2, 1]"
      ]
     },
     "execution_count": 12,
     "metadata": {},
     "output_type": "execute_result"
    }
   ],
   "source": [
    "num1=list(map(int,input(\"give the numbers\").strip().split(\",\")))\n",
    "num1[len(num1)::-1]\n",
    "#print(num_rot)"
   ]
  },
  {
   "cell_type": "markdown",
   "id": "c6d2f048",
   "metadata": {},
   "source": [
    "# 4. Write a Python Program to Split the array and add the first part to the end?"
   ]
  },
  {
   "cell_type": "code",
   "execution_count": 17,
   "id": "9602f7c2",
   "metadata": {},
   "outputs": [
    {
     "name": "stdout",
     "output_type": "stream",
     "text": [
      "give the numbers23,45,67,89,23,45,90,111,234\n",
      "[45, 90, 111, 234, 23, 45, 67, 89, 23]\n"
     ]
    }
   ],
   "source": [
    "num1=list(map(int,input(\"give the numbers\").strip().split(\",\")))\n",
    "num_split=[]\n",
    "for i in range (len(num1)//2+1,len(num1)):\n",
    "    num_split.append(num1[i])\n",
    "    \n",
    "for j in range (len(num1)//2+1):\n",
    "    num_split.append(num1[j])\n",
    "print(num_split)\n",
    "    "
   ]
  },
  {
   "cell_type": "markdown",
   "id": "ef0c8634",
   "metadata": {},
   "source": [
    "# 5. Write a Python Program to check if given array is Monotonic?"
   ]
  },
  {
   "cell_type": "code",
   "execution_count": 19,
   "id": "ae55a771",
   "metadata": {},
   "outputs": [],
   "source": [
    "def monotonic():\n",
    "    num1=list(map(int,input(\"give the numbers\").strip().split(\",\")))\n",
    "    status=\"monotonic\"\n",
    "    max_val=0\n",
    "    for i in num1:\n",
    "        if i>max_val:\n",
    "            max_val=i\n",
    "        else:\n",
    "            status=\"non monotonic\"\n",
    "            break\n",
    "    print(status)"
   ]
  },
  {
   "cell_type": "code",
   "execution_count": 20,
   "id": "78492816",
   "metadata": {},
   "outputs": [
    {
     "name": "stdout",
     "output_type": "stream",
     "text": [
      "give the numbers4,5,7,8,2,10\n",
      "non monotonic\n"
     ]
    }
   ],
   "source": [
    "monotonic()"
   ]
  },
  {
   "cell_type": "code",
   "execution_count": null,
   "id": "03a9a43c",
   "metadata": {},
   "outputs": [],
   "source": []
  }
 ],
 "metadata": {
  "kernelspec": {
   "display_name": "Python 3 (ipykernel)",
   "language": "python",
   "name": "python3"
  },
  "language_info": {
   "codemirror_mode": {
    "name": "ipython",
    "version": 3
   },
   "file_extension": ".py",
   "mimetype": "text/x-python",
   "name": "python",
   "nbconvert_exporter": "python",
   "pygments_lexer": "ipython3",
   "version": "3.9.12"
  }
 },
 "nbformat": 4,
 "nbformat_minor": 5
}
