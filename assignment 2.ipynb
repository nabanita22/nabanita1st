{
 "cells": [
  {
   "cell_type": "markdown",
   "id": "249f4960",
   "metadata": {},
   "source": [
    "# 1.What are the two values of the Boolean data type? How do you write them?"
   ]
  },
  {
   "cell_type": "markdown",
   "id": "8be1fae4",
   "metadata": {},
   "source": [
    "True (considered to be 1),\n",
    "False(considered to be 0)"
   ]
  },
  {
   "cell_type": "markdown",
   "id": "44aa6270",
   "metadata": {},
   "source": [
    "# 2. What are the three different types of Boolean operators?"
   ]
  },
  {
   "cell_type": "markdown",
   "id": "66454763",
   "metadata": {},
   "source": [
    "and ; or ; not"
   ]
  },
  {
   "cell_type": "markdown",
   "id": "3ac22caa",
   "metadata": {},
   "source": [
    "# 3. Make a list of each Boolean operator's truth tables (i.e. every possible combination of Boolean\n",
    "# values for the operator and what it evaluate )."
   ]
  },
  {
   "cell_type": "markdown",
   "id": "04159434",
   "metadata": {},
   "source": [
    "operator  input1   input2   output\n",
    "- and       True     True    True\n",
    "             T        F       F\n",
    "             F        F       F\n",
    "             F        F       F\n",
    "             \n",
    "- OR         T        T       T\n",
    "             T        F       T\n",
    "             F        T       T\n",
    "             F        F       F\n",
    "             \n",
    " - NOR       if value is TRUE output will be FALSE and vice versa."
   ]
  },
  {
   "cell_type": "markdown",
   "id": "cd9484f2",
   "metadata": {},
   "source": [
    "# 4. What are the values of the following expressions?\n",
    "# (5 >4) and (3 == 5)\n",
    "# not (5 > 4)\n",
    "# (5 > 4) or (3 == 5)\n",
    "# not ((5> 4) or (3 == 5))\n",
    "# (True and True) and (True == False)\n",
    "# (not False) or (not True)"
   ]
  },
  {
   "cell_type": "markdown",
   "id": "c220a4c5",
   "metadata": {},
   "source": [
    "(5 >4) and (3 == 5)\n",
    "- False\n",
    "\n",
    "not (5 > 4)\n",
    "- False\n",
    "\n",
    "(5 > 4) or (3 == 5)\n",
    "- True\n",
    "\n",
    "not ((5> 4) or (3 == 5))\n",
    "- False\n",
    "\n",
    "(True and True) and (True == False)\n",
    "- False\n",
    "\n",
    "(not False) or (not True)\n",
    "- True\n"
   ]
  },
  {
   "cell_type": "markdown",
   "id": "f1ed09c5",
   "metadata": {},
   "source": [
    "# 5. What are the six comparison operators?"
   ]
  },
  {
   "cell_type": "markdown",
   "id": "559816b6",
   "metadata": {},
   "source": [
    "==\tEqual\tx == y\t\n",
    "!=\tNot equal\tx != y\t\n",
    ">\tGreater than\tx > y\t\n",
    "<\tLess than\tx < y\t\n",
    ">=\tGreater than or equal to\tx >= y\t\n",
    "<=\tLess than or equal to\tx <= y"
   ]
  },
  {
   "cell_type": "markdown",
   "id": "bac3b678",
   "metadata": {},
   "source": [
    "# 6. How do you tell the difference between the equal to and assignment operators?Describe a\n",
    "# condition and when you would use one."
   ]
  },
  {
   "cell_type": "markdown",
   "id": "1f7975e5",
   "metadata": {},
   "source": [
    "let,\n",
    "a=10 (here we are assigning 10 as a value of a)\n",
    "\n",
    "a==10(here we are equalising the value of a with 10)\n",
    "as it is correct True value will be printed."
   ]
  },
  {
   "cell_type": "markdown",
   "id": "7eedece2",
   "metadata": {},
   "source": [
    "# 7. Identify the three blocks in this code:\n",
    "# spam = 0\n",
    "# if spam == 10:\n",
    "# print(\"eggs\")\n",
    "# if spam> 5:\n",
    "# print(\"bacon\")\n",
    "# else:\n",
    "# print(\"ham\")\n",
    "# print(\"spam\")\n",
    "# print(\"spam\")"
   ]
  },
  {
   "cell_type": "markdown",
   "id": "afd8063e",
   "metadata": {},
   "source": [
    "- block 1\n",
    "\n",
    "if spam == 10:\n",
    "print(\"eggs\")\n",
    "\n",
    "\n",
    "- block 2\n",
    "\n",
    "if spam> 5:\n",
    "print(\"bacon\")\n",
    "\n",
    "\n",
    "- block 3\n",
    "\n",
    "else:\n",
    "print(\"ham\")\n",
    "print(\"spam\")¶\n",
    "print(\"spam\")"
   ]
  },
  {
   "cell_type": "markdown",
   "id": "6d28e386",
   "metadata": {},
   "source": [
    "# 8. Write code that prints Hello if 1 is stored in spam, prints Howdy if 2 is stored in spam, and prints\n",
    "# Greetings! if anything else is stored in spam."
   ]
  },
  {
   "cell_type": "code",
   "execution_count": 2,
   "id": "391dac68",
   "metadata": {},
   "outputs": [
    {
     "name": "stdout",
     "output_type": "stream",
     "text": [
      "type any number5\n",
      "greetings\n"
     ]
    }
   ],
   "source": [
    "spam=int(input(\"type any number\"))\n",
    "\n",
    "if spam==1:\n",
    "    print(\"hello\")\n",
    "elif spam==2:\n",
    "    print(\"howdy\")\n",
    "else:\n",
    "    print(\"greetings\")"
   ]
  },
  {
   "cell_type": "markdown",
   "id": "ef832aff",
   "metadata": {},
   "source": [
    "# 9.If your programme is stuck in an endless loop, what keys you’ll press?"
   ]
  },
  {
   "cell_type": "markdown",
   "id": "c099fddd",
   "metadata": {},
   "source": [
    "ctrl +c"
   ]
  },
  {
   "cell_type": "markdown",
   "id": "f7534d88",
   "metadata": {},
   "source": [
    "# 10. How can you tell the difference between break and continue?"
   ]
  },
  {
   "cell_type": "markdown",
   "id": "8c1e6625",
   "metadata": {},
   "source": [
    "The main difference between both the statements is that when break keyword comes, it terminates the execution of the current loop and passes the control over the next loop or main body, whereas when continue keyword is encountered, it skips the current iteration and executes the very next iteration in the loop."
   ]
  },
  {
   "cell_type": "markdown",
   "id": "eb077891",
   "metadata": {},
   "source": [
    "# 11. In a for loop, what is the difference between range(10), range(0, 10), and range(0, 10, 1)?"
   ]
  },
  {
   "cell_type": "markdown",
   "id": "8f972ff9",
   "metadata": {},
   "source": [
    "output is same for all the 3 cases. syntax of range is (start,stop,step)."
   ]
  },
  {
   "cell_type": "markdown",
   "id": "bb99f5c7",
   "metadata": {},
   "source": [
    "# 12. Write a short program that prints the numbers 1 to 10 using a for loop. Then write an equivalent\n",
    "# program that prints the numbers 1 to 10 using a while loop."
   ]
  },
  {
   "cell_type": "code",
   "execution_count": 6,
   "id": "6af8f4e4",
   "metadata": {},
   "outputs": [
    {
     "name": "stdout",
     "output_type": "stream",
     "text": [
      "0 1 2 3 4 5 6 7 8 9 10 "
     ]
    }
   ],
   "source": [
    "for i in range(0,11,1):\n",
    "    print(i,end=\" \")"
   ]
  },
  {
   "cell_type": "code",
   "execution_count": 8,
   "id": "76eaeef6",
   "metadata": {},
   "outputs": [
    {
     "name": "stdout",
     "output_type": "stream",
     "text": [
      "0 1 2 3 4 5 6 7 8 9 10 "
     ]
    }
   ],
   "source": [
    "i=0\n",
    "while i<11:\n",
    "    print(i,end=\" \")\n",
    "    i+=1"
   ]
  },
  {
   "cell_type": "markdown",
   "id": "9a7f6049",
   "metadata": {},
   "source": [
    "# 13. If you had a function named bacon() inside a module named spam, how would you call it after\n",
    "# importing spam?"
   ]
  },
  {
   "cell_type": "markdown",
   "id": "839592b4",
   "metadata": {},
   "source": [
    "import spam |\\\n",
    "spam.bacon()"
   ]
  },
  {
   "cell_type": "code",
   "execution_count": null,
   "id": "87c5d03e",
   "metadata": {},
   "outputs": [],
   "source": []
  }
 ],
 "metadata": {
  "kernelspec": {
   "display_name": "Python 3 (ipykernel)",
   "language": "python",
   "name": "python3"
  },
  "language_info": {
   "codemirror_mode": {
    "name": "ipython",
    "version": 3
   },
   "file_extension": ".py",
   "mimetype": "text/x-python",
   "name": "python",
   "nbconvert_exporter": "python",
   "pygments_lexer": "ipython3",
   "version": "3.9.12"
  }
 },
 "nbformat": 4,
 "nbformat_minor": 5
}
