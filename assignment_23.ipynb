{
 "cells": [
  {
   "cell_type": "markdown",
   "id": "d79aba0d",
   "metadata": {},
   "source": [
    "# Question 1\n",
    "Create a function that takes a number as an argument and returns True or False depending\n",
    "on whether the number is symmetrical or not. A number is symmetrical when it is the same as\n",
    "its reverse."
   ]
  },
  {
   "cell_type": "code",
   "execution_count": 56,
   "id": "e1fcfaef",
   "metadata": {},
   "outputs": [],
   "source": [
    "def is_symmetrical(a):\n",
    "    import math\n",
    "    a_str=str(a)\n",
    "    symmetrical=\"True\"\n",
    "    if len(a_str)%2==0:\n",
    "        for p in range (len(a_str)):\n",
    "\n",
    "            if a_str[p]!=a_str[(len(a_str)-1)-p] and p<=int(len(a_str)/2):\n",
    "                symmetrical=\"False\"\n",
    "                break\n",
    "                \n",
    "           \n",
    "                \n",
    "    elif len(a_str)%2!=0:\n",
    "        for q in range (len(a_str)):\n",
    "            if a_str[q]!=a_str[(len(a_str)-1)-q] and q<=int (math.ceil(len(a_str)/2)):\n",
    "                symmetrical=\"False\"\n",
    "                break\n",
    "    print(symmetrical)      \n",
    "    "
   ]
  },
  {
   "cell_type": "code",
   "execution_count": 59,
   "id": "157e7f75",
   "metadata": {},
   "outputs": [
    {
     "name": "stdout",
     "output_type": "stream",
     "text": [
      "True\n"
     ]
    }
   ],
   "source": [
    "is_symmetrical(7227)"
   ]
  },
  {
   "cell_type": "code",
   "execution_count": null,
   "id": "f48ac11a",
   "metadata": {},
   "outputs": [],
   "source": []
  },
  {
   "cell_type": "markdown",
   "id": "f2f14a80",
   "metadata": {},
   "source": [
    "# Question 2\n",
    "Given a string of numbers separated by a comma and space, return the product of the\n",
    "numbers."
   ]
  },
  {
   "cell_type": "code",
   "execution_count": 4,
   "id": "0f9840a5",
   "metadata": {},
   "outputs": [
    {
     "name": "stdout",
     "output_type": "stream",
     "text": [
      "give numbers deperated by comma7,8,9,10\n",
      "5040\n"
     ]
    }
   ],
   "source": [
    "ask=list(map (int,input(\"give numbers deperated by comma\").rstrip().split(\",\")))\n",
    "i=1\n",
    "for nums in ask:\n",
    "    i=i*nums\n",
    "print(i)"
   ]
  },
  {
   "cell_type": "markdown",
   "id": "cca00b03",
   "metadata": {},
   "source": [
    "# Question 3\n",
    "Create a function that squares every digit of a number."
   ]
  },
  {
   "cell_type": "code",
   "execution_count": 14,
   "id": "58bbf252",
   "metadata": {},
   "outputs": [],
   "source": [
    "\n",
    "def square_digits():\n",
    "    ask=int(input(\"give the number\"))\n",
    "    final=\"\"\n",
    "    a_str=str(ask)\n",
    "    for i in a_str:\n",
    "        i_int=int(i)\n",
    "        i_square=i_int**2\n",
    "        i_square_str=str(i_square)\n",
    "        final+=i_square_str\n",
    "    final_int=int(final)\n",
    "    print (final_int)\n",
    "\n"
   ]
  },
  {
   "cell_type": "code",
   "execution_count": 15,
   "id": "17a93e49",
   "metadata": {},
   "outputs": [
    {
     "name": "stdout",
     "output_type": "stream",
     "text": [
      "give the number2483\n",
      "416649\n"
     ]
    }
   ],
   "source": [
    "square_digits()"
   ]
  },
  {
   "cell_type": "markdown",
   "id": "5bae2b38",
   "metadata": {},
   "source": [
    "# Question 4\n",
    "Create a function that sorts a list and removes all duplicate items from it.\n"
   ]
  },
  {
   "cell_type": "code",
   "execution_count": 28,
   "id": "f5047494",
   "metadata": {},
   "outputs": [],
   "source": [
    "def remove_dupli(a):\n",
    "    s_set=set()\n",
    "    for i in a:\n",
    "        s_set.add(i)\n",
    "        \n",
    "    l_list=list(s_set)\n",
    "    l_list.sort()\n",
    "    print(l_list)"
   ]
  },
  {
   "cell_type": "code",
   "execution_count": 29,
   "id": "0fd000a2",
   "metadata": {},
   "outputs": [
    {
     "name": "stdout",
     "output_type": "stream",
     "text": [
      "[1, 3, 5]\n"
     ]
    }
   ],
   "source": [
    "remove_dupli([1,3,3,5,5])"
   ]
  },
  {
   "cell_type": "markdown",
   "id": "99f45cd9",
   "metadata": {},
   "source": [
    "# or"
   ]
  },
  {
   "cell_type": "code",
   "execution_count": 25,
   "id": "6c5cdb52",
   "metadata": {},
   "outputs": [],
   "source": [
    "def remove_duplicate(a):\n",
    "    l=[a[0]]\n",
    "    for i in a:\n",
    "        if i in l:\n",
    "            pass\n",
    "        else:\n",
    "            l.append(i)\n",
    "            l.sort()\n",
    "    print(l)\n",
    "    "
   ]
  },
  {
   "cell_type": "code",
   "execution_count": 26,
   "id": "d70783d5",
   "metadata": {},
   "outputs": [
    {
     "name": "stdout",
     "output_type": "stream",
     "text": [
      "[5, 7, 8, 9, 10, 15]\n"
     ]
    }
   ],
   "source": [
    "remove_duplicate([5,7,8,9,10,15])"
   ]
  },
  {
   "cell_type": "code",
   "execution_count": 27,
   "id": "408b38a5",
   "metadata": {},
   "outputs": [
    {
     "name": "stdout",
     "output_type": "stream",
     "text": [
      "[1, 2, 3]\n"
     ]
    }
   ],
   "source": [
    "remove_duplicate([3,3,3,2,1])"
   ]
  },
  {
   "cell_type": "markdown",
   "id": "0c08a4bb",
   "metadata": {},
   "source": [
    "# Question 5\n",
    "Create a function that returns the mean of all digits."
   ]
  },
  {
   "cell_type": "code",
   "execution_count": 35,
   "id": "fac168de",
   "metadata": {},
   "outputs": [],
   "source": [
    "def mean(a):\n",
    "    a_str=str(a)\n",
    "    a_length=len(a_str)\n",
    "    a_sum=0\n",
    "    for i in a_str:\n",
    "        i_int=int(i)\n",
    "        a_sum=a_sum+i_int\n",
    "    \n",
    "    mean=int(a_sum/a_length)\n",
    "    print(mean)"
   ]
  },
  {
   "cell_type": "code",
   "execution_count": 37,
   "id": "43a0386f",
   "metadata": {},
   "outputs": [
    {
     "name": "stdout",
     "output_type": "stream",
     "text": [
      "6\n"
     ]
    }
   ],
   "source": [
    "mean(666)"
   ]
  },
  {
   "cell_type": "code",
   "execution_count": null,
   "id": "1b894b4c",
   "metadata": {},
   "outputs": [],
   "source": []
  },
  {
   "cell_type": "code",
   "execution_count": null,
   "id": "02b11fe2",
   "metadata": {},
   "outputs": [],
   "source": []
  }
 ],
 "metadata": {
  "kernelspec": {
   "display_name": "Python 3 (ipykernel)",
   "language": "python",
   "name": "python3"
  },
  "language_info": {
   "codemirror_mode": {
    "name": "ipython",
    "version": 3
   },
   "file_extension": ".py",
   "mimetype": "text/x-python",
   "name": "python",
   "nbconvert_exporter": "python",
   "pygments_lexer": "ipython3",
   "version": "3.9.12"
  }
 },
 "nbformat": 4,
 "nbformat_minor": 5
}
