{
 "cells": [
  {
   "cell_type": "markdown",
   "id": "930755b4",
   "metadata": {},
   "source": [
    "# 1. Write a Python Program to Find the Factorial of a Number?"
   ]
  },
  {
   "cell_type": "code",
   "execution_count": 1,
   "id": "ef866f68",
   "metadata": {},
   "outputs": [
    {
     "name": "stdout",
     "output_type": "stream",
     "text": [
      "give a number6\n",
      "720\n"
     ]
    }
   ],
   "source": [
    "ask=int(input(\"give a number\"))\n",
    "facto=1\n",
    "for i in range (1,(ask+1)):\n",
    "    facto=facto*i\n",
    "print(facto)"
   ]
  },
  {
   "cell_type": "markdown",
   "id": "3b099e52",
   "metadata": {},
   "source": [
    "# 2. Write a Python Program to Display the multiplication Table?"
   ]
  },
  {
   "cell_type": "code",
   "execution_count": 3,
   "id": "c75a5ab9",
   "metadata": {},
   "outputs": [
    {
     "name": "stdout",
     "output_type": "stream",
     "text": [
      "type the number:\n",
      "4\n",
      "4*1=4\n",
      "4*2=8\n",
      "4*3=12\n",
      "4*4=16\n",
      "4*5=20\n",
      "4*6=24\n",
      "4*7=28\n",
      "4*8=32\n",
      "4*9=36\n",
      "4*10=40\n",
      "this is table of 4\n"
     ]
    }
   ],
   "source": [
    "num=int(input(\"type the number:\\n\"))\n",
    "\n",
    "for i in range (1,11):\n",
    "    mul=num*i\n",
    "    print(f\"{num}*{i}={mul}\")\n",
    "print(f\"this is table of {num}\")"
   ]
  },
  {
   "cell_type": "markdown",
   "id": "b0384ae2",
   "metadata": {},
   "source": [
    "# 3. Write a Python Program to Print the Fibonacci sequence?"
   ]
  },
  {
   "cell_type": "code",
   "execution_count": 6,
   "id": "baef29d0",
   "metadata": {},
   "outputs": [
    {
     "name": "stdout",
     "output_type": "stream",
     "text": [
      "How many terms? 7\n",
      "Fibonacci sequence:\n",
      "0\n",
      "1\n",
      "1\n",
      "2\n",
      "3\n",
      "5\n",
      "8\n"
     ]
    }
   ],
   "source": [
    "nterms = int(input(\"How many terms? \"))\n",
    "\n",
    "# first two terms\n",
    "n1, n2 = 0, 1\n",
    "count = 0\n",
    "\n",
    "# check if the number of terms is valid\n",
    "if nterms <= 0:\n",
    "    print(\"Please enter a positive integer\")\n",
    "# if there is only one term, return n1\n",
    "elif nterms == 1:\n",
    "    print(\"Fibonacci sequence upto\",nterms,\":\")\n",
    "    print(n1)\n",
    "# generate fibonacci sequence\n",
    "else:\n",
    "    print(\"Fibonacci sequence:\")\n",
    "    while count < nterms:\n",
    "        print(n1)\n",
    "        nth = n1 + n2\n",
    "       # update values\n",
    "        n1 = n2\n",
    "        n2 = nth\n",
    "        count += 1"
   ]
  },
  {
   "cell_type": "markdown",
   "id": "c48a5549",
   "metadata": {},
   "source": [
    "# 4. Write a Python Program to Check Armstrong Number?"
   ]
  },
  {
   "cell_type": "code",
   "execution_count": 13,
   "id": "66d02b77",
   "metadata": {},
   "outputs": [
    {
     "name": "stdout",
     "output_type": "stream",
     "text": [
      "give the number122\n",
      "is 122 an Armstrong Number:False\n"
     ]
    }
   ],
   "source": [
    "arm_num=int(input(\"give the number\"))\n",
    "cub=len(str(arm_num))\n",
    "status=\"\"\n",
    "total=0\n",
    "for i in str(arm_num):\n",
    "    total=total+int(i)**cub\n",
    "    if total==arm_num:\n",
    "        status=True\n",
    "    else:\n",
    "        status=False\n",
    "print(f\"is {arm_num} an Armstrong Number:{status}\")"
   ]
  },
  {
   "cell_type": "markdown",
   "id": "2f1458b2",
   "metadata": {},
   "source": [
    "# 5. Write a Python Program to Find Armstrong Number in an Interval?"
   ]
  },
  {
   "cell_type": "code",
   "execution_count": 22,
   "id": "58dd2921",
   "metadata": {},
   "outputs": [
    {
     "name": "stdout",
     "output_type": "stream",
     "text": [
      "give the start num100\n",
      "give the end num450\n",
      "list of Armstrong Number within 100 and 450 interval is [153, 370, 371, 407]\n"
     ]
    }
   ],
   "source": [
    "start=int(input(\"give the start num\"))\n",
    "end=int(input(\"give the end num\"))\n",
    "arm_list=[]\n",
    "for i in range (start,(end+1)):\n",
    "    cub=len(str(i))\n",
    "    status=\"\"\n",
    "    total=0\n",
    "    for j in str(i):\n",
    "        total=total+int(j)**cub\n",
    "        if total==i:\n",
    "            status=True\n",
    "            if status==True and i not in arm_list:\n",
    "                arm_list.append(i)\n",
    "        else:\n",
    "            status=False\n",
    "            \n",
    "        \n",
    "print(f\"list of Armstrong Number within {start} and {end} interval is {arm_list}\")    "
   ]
  },
  {
   "cell_type": "markdown",
   "id": "2f6070a2",
   "metadata": {},
   "source": [
    "# 6. Write a Python Program to Find the Sum of Natural Numbers?"
   ]
  },
  {
   "cell_type": "code",
   "execution_count": 23,
   "id": "203d8ec2",
   "metadata": {},
   "outputs": [
    {
     "name": "stdout",
     "output_type": "stream",
     "text": [
      "give the num7\n",
      "sum of 7 natural numbers is 28.0\n"
     ]
    }
   ],
   "source": [
    "# Sn = n(n+1)/2\n",
    "n=int(input(\"give the num\"))\n",
    "\n",
    "print(f\"sum of {n} natural numbers is {(n*(n+1))/2}\")\n"
   ]
  },
  {
   "cell_type": "code",
   "execution_count": null,
   "id": "7033c43d",
   "metadata": {},
   "outputs": [],
   "source": []
  }
 ],
 "metadata": {
  "kernelspec": {
   "display_name": "Python 3 (ipykernel)",
   "language": "python",
   "name": "python3"
  },
  "language_info": {
   "codemirror_mode": {
    "name": "ipython",
    "version": 3
   },
   "file_extension": ".py",
   "mimetype": "text/x-python",
   "name": "python",
   "nbconvert_exporter": "python",
   "pygments_lexer": "ipython3",
   "version": "3.9.12"
  }
 },
 "nbformat": 4,
 "nbformat_minor": 5
}
