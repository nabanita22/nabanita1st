{
 "cells": [
  {
   "cell_type": "raw",
   "id": "3580656e",
   "metadata": {},
   "source": [
    "1. Write a Python program to find sum of elements in list?\n",
    "2. Write a Python program to Multiply all numbers in the list?\n",
    "3. Write a Python program to find smallest number in a list?\n",
    "4. Write a Python program to find largest number in a list?\n",
    "5. Write a Python program to find second largest number in a list?\n",
    "6. Write a Python program to find N largest elements from a list?\n",
    "7. Write a Python program to print even numbers in a list?\n",
    "8. Write a Python program to print odd numbers in a List?\n",
    "9. Write a Python program to Remove empty List from List?\n",
    "10. Write a Python program to Cloning or Copying a list?\n",
    "11. Write a Python program to Count occurrences of an element in a list?"
   ]
  },
  {
   "cell_type": "code",
   "execution_count": 67,
   "id": "97766bcf",
   "metadata": {},
   "outputs": [],
   "source": [
    "class Assign_10:\n",
    "    def __init__(self,a):\n",
    "        self.a=a\n",
    "    def find_sum(self):\n",
    "        total=0\n",
    "        for i in self.a:\n",
    "            total+=i\n",
    "        return total\n",
    "    def find_mul(self):\n",
    "        mul=1\n",
    "        for i in self.a:\n",
    "            mul*=i\n",
    "        return mul\n",
    "    \n",
    "    def find_small(self):\n",
    "        min_list=self.a[0]\n",
    "        for i in self.a:\n",
    "            if i<min_list:\n",
    "                min_list=i\n",
    "                \n",
    "            else:\n",
    "                pass\n",
    "        return min_list\n",
    "    \n",
    "    def find_large(self):\n",
    "        max_list=self.a[0]\n",
    "        for i in self.a:\n",
    "            if i>max_list:\n",
    "                max_list=i\n",
    "            else:\n",
    "                pass\n",
    "            \n",
    "        return max_list\n",
    "    \n",
    "    def find_2nd_large(self):\n",
    "        max_list=max(self.a)\n",
    "        self.a.remove(max_list)\n",
    "        max_2=max(self.a)\n",
    "        return max_2\n",
    "    \n",
    "    def find_n_largest(self,n):\n",
    "        max_nlist=[]\n",
    "        while n>0:\n",
    "            \n",
    "            max_list=self.a[0]\n",
    "            for i in self.a:\n",
    "                if i>max_list:\n",
    "                    max_list=i            \n",
    "                else:\n",
    "                    pass\n",
    "            max_nlist.append(max_list)\n",
    "            self.a.remove(max_list) \n",
    "            n=n-1\n",
    "        return max_nlist\n",
    "    \n",
    "    def even_odd(self):\n",
    "        even=[]\n",
    "        odd=[]\n",
    "        for i in self.a:\n",
    "            if i%2==0:\n",
    "                even.append(i)\n",
    "            else:\n",
    "                odd.append(i) \n",
    "                    \n",
    "        print(f\"even nums are {even}.\")\n",
    "        print(f\"odd nums are {odd}.\")\n",
    "    \n",
    "    def remove_empty(self):\n",
    "        for i in self.a:\n",
    "            if i==[]:\n",
    "                self.a.remove(i)\n",
    "            else:\n",
    "                pass\n",
    "        return self.a\n",
    "    \n",
    "    #0. Write a Python program to Cloning or Copying a list?\n",
    "    def cloning(self):\n",
    "        c=self.a[:]\n",
    "        \n",
    "        return c\n",
    "    #11. Write a Python program to Count occurrences of an element in a list?\n",
    "    def occure(self):\n",
    "        dit={}\n",
    "        for i in range (len(self.a)):\n",
    "            count=0\n",
    "            d=self.a[i]\n",
    "            for j in self.a:\n",
    "                if j==d:\n",
    "                    count+=1\n",
    "                    dit[j]=count\n",
    "                else:\n",
    "                    pass\n",
    "        return dit\n",
    "        \n"
   ]
  },
  {
   "cell_type": "code",
   "execution_count": 68,
   "id": "a9ac2e94",
   "metadata": {},
   "outputs": [],
   "source": [
    "l1=Assign_10([1,2,3,4,5,6,7,8,9,10,10,10])"
   ]
  },
  {
   "cell_type": "code",
   "execution_count": 57,
   "id": "3401de15",
   "metadata": {},
   "outputs": [
    {
     "data": {
      "text/plain": [
       "9"
      ]
     },
     "execution_count": 57,
     "metadata": {},
     "output_type": "execute_result"
    }
   ],
   "source": [
    "l1.find_2nd_large()"
   ]
  },
  {
   "cell_type": "code",
   "execution_count": 58,
   "id": "2a78c0fd",
   "metadata": {},
   "outputs": [
    {
     "data": {
      "text/plain": [
       "[9, 8, 7, 6, 5]"
      ]
     },
     "execution_count": 58,
     "metadata": {},
     "output_type": "execute_result"
    }
   ],
   "source": [
    "l1.find_n_largest(5)"
   ]
  },
  {
   "cell_type": "code",
   "execution_count": 65,
   "id": "e39a8d21",
   "metadata": {},
   "outputs": [
    {
     "name": "stdout",
     "output_type": "stream",
     "text": [
      "even nums are [2, 4, 6, 8, 10, 10, 10].\n",
      "odd nums are [1, 3, 5, 7, 9].\n"
     ]
    }
   ],
   "source": [
    "l1.even_odd()"
   ]
  },
  {
   "cell_type": "code",
   "execution_count": 69,
   "id": "fe9423c5",
   "metadata": {},
   "outputs": [
    {
     "data": {
      "text/plain": [
       "{1: 1, 2: 1, 3: 1, 4: 1, 5: 1, 6: 1, 7: 1, 8: 1, 9: 1, 10: 3}"
      ]
     },
     "execution_count": 69,
     "metadata": {},
     "output_type": "execute_result"
    }
   ],
   "source": [
    "l1.occure()"
   ]
  },
  {
   "cell_type": "code",
   "execution_count": null,
   "id": "4229ece8",
   "metadata": {},
   "outputs": [],
   "source": []
  }
 ],
 "metadata": {
  "kernelspec": {
   "display_name": "Python 3 (ipykernel)",
   "language": "python",
   "name": "python3"
  },
  "language_info": {
   "codemirror_mode": {
    "name": "ipython",
    "version": 3
   },
   "file_extension": ".py",
   "mimetype": "text/x-python",
   "name": "python",
   "nbconvert_exporter": "python",
   "pygments_lexer": "ipython3",
   "version": "3.9.12"
  }
 },
 "nbformat": 4,
 "nbformat_minor": 5
}
