{
 "cells": [
  {
   "cell_type": "markdown",
   "id": "7fca77e6",
   "metadata": {},
   "source": [
    "# 1. Write a Python program to convert kilometers to miles?"
   ]
  },
  {
   "cell_type": "code",
   "execution_count": 21,
   "id": "fc5c5956",
   "metadata": {},
   "outputs": [],
   "source": [
    "# 1km=0.621371mile\n",
    "\n",
    "def convert_km_to_miles():\n",
    "    ask=int(input(\"give the km value\"))\n",
    "    \n",
    "    miles=ask*0.621371\n",
    "    \n",
    "    print (f\"{ask}km={miles}mile\")"
   ]
  },
  {
   "cell_type": "code",
   "execution_count": 23,
   "id": "d2d86147",
   "metadata": {},
   "outputs": [
    {
     "name": "stdout",
     "output_type": "stream",
     "text": [
      "give the km value2\n",
      "2km=1.242742mile\n"
     ]
    }
   ],
   "source": [
    "convert_km_to_miles()"
   ]
  },
  {
   "cell_type": "markdown",
   "id": "d2f02b95",
   "metadata": {},
   "source": [
    "# 2. Write a Python program to convert Celsius to Fahrenheit?"
   ]
  },
  {
   "cell_type": "code",
   "execution_count": 25,
   "id": "33d53bda",
   "metadata": {},
   "outputs": [],
   "source": [
    "# (°C × 9/5) + 32 = °F\n",
    "\n",
    "def conver_cel_to_f():\n",
    "    ask=int(input(\"give the celsius value:\\n\"))\n",
    "    F=(ask * 9/5) + 32\n",
    "    print(f\"{ask}°C={F}Fahrenheit\")"
   ]
  },
  {
   "cell_type": "code",
   "execution_count": 27,
   "id": "608803c4",
   "metadata": {},
   "outputs": [
    {
     "name": "stdout",
     "output_type": "stream",
     "text": [
      "give the celsius value:\n",
      "100\n",
      "100°C=212.0Fahrenheit\n"
     ]
    }
   ],
   "source": [
    "conver_cel_to_f()"
   ]
  },
  {
   "cell_type": "markdown",
   "id": "aeec30fd",
   "metadata": {},
   "source": [
    "# 3. Write a Python program to display calendar?"
   ]
  },
  {
   "cell_type": "code",
   "execution_count": 55,
   "id": "c04408e2",
   "metadata": {},
   "outputs": [],
   "source": [
    "class Calender:\n",
    "    def __init__(self,year,month,day):\n",
    "        self.year=year\n",
    "        self.month=month\n",
    "        self.day=day\n",
    "        \n",
    "    def view(self):\n",
    "        import datetime\n",
    "        a=datetime.date(self.year,self.month,self.day)\n",
    "        print (f\"year ={a.year}\")\n",
    "        print(f\"month={a.strftime('%B')}\")\n",
    "        print(f\"day={a.strftime('%A')}\")\n",
    "        print(f\"full date in (dd/mm/yyyy)= {a.day}{a.strftime('/%m/%Y')}\")\n",
    "        "
   ]
  },
  {
   "cell_type": "code",
   "execution_count": 56,
   "id": "7b28d7aa",
   "metadata": {},
   "outputs": [],
   "source": [
    "D1=Calender(2023,2,8)"
   ]
  },
  {
   "cell_type": "code",
   "execution_count": 57,
   "id": "d3e2f323",
   "metadata": {},
   "outputs": [
    {
     "name": "stdout",
     "output_type": "stream",
     "text": [
      "year =2023\n",
      "month=February\n",
      "day=Wednesday\n",
      "full date in (dd/mm/yyyy)= 8/02/2023\n"
     ]
    }
   ],
   "source": [
    "D1.view()"
   ]
  },
  {
   "cell_type": "markdown",
   "id": "472204c7",
   "metadata": {},
   "source": [
    "# 4. Write a Python program to solve quadratic equation?"
   ]
  },
  {
   "cell_type": "code",
   "execution_count": 58,
   "id": "ae4b400c",
   "metadata": {},
   "outputs": [
    {
     "name": "stdout",
     "output_type": "stream",
     "text": [
      "The solution are (-3+0j) and (-2+0j)\n"
     ]
    }
   ],
   "source": [
    "# Solve the quadratic equation ax**2 + bx + c = 0\n",
    "\n",
    "# import complex math module\n",
    "import cmath\n",
    "\n",
    "a = 1\n",
    "b = 5\n",
    "c = 6\n",
    "\n",
    "# calculate the discriminant\n",
    "d = (b**2) - (4*a*c)\n",
    "\n",
    "# find two solutions\n",
    "sol1 = (-b-cmath.sqrt(d))/(2*a)\n",
    "sol2 = (-b+cmath.sqrt(d))/(2*a)\n",
    "\n",
    "print('The solution are {0} and {1}'.format(sol1,sol2))"
   ]
  },
  {
   "cell_type": "markdown",
   "id": "ebd4427a",
   "metadata": {},
   "source": [
    "# 5. Write a Python program to swap two variables without temp variable?"
   ]
  },
  {
   "cell_type": "code",
   "execution_count": 59,
   "id": "a270e41a",
   "metadata": {},
   "outputs": [
    {
     "name": "stdout",
     "output_type": "stream",
     "text": [
      "give the value of the 1st variable5\n",
      "give the value of the 2nd variable6\n",
      "before swaping 1st_var =5\n",
      "2_var=6\n",
      "after swaping 1st_var=6\n",
      "2_var=5\n"
     ]
    }
   ],
   "source": [
    "x=input(\"give the value of the 1st variable\")\n",
    "y=input(\"give the value of the 2nd variable\")\n",
    "\n",
    "print(f\"before swaping 1st_var ={x}\\n2_var={y}\")\n",
    "x,y=y,x\n",
    "print(f\"after swaping 1st_var={x}\\n2_var={y}\")"
   ]
  },
  {
   "cell_type": "code",
   "execution_count": null,
   "id": "5905a6e0",
   "metadata": {},
   "outputs": [],
   "source": []
  }
 ],
 "metadata": {
  "kernelspec": {
   "display_name": "Python 3 (ipykernel)",
   "language": "python",
   "name": "python3"
  },
  "language_info": {
   "codemirror_mode": {
    "name": "ipython",
    "version": 3
   },
   "file_extension": ".py",
   "mimetype": "text/x-python",
   "name": "python",
   "nbconvert_exporter": "python",
   "pygments_lexer": "ipython3",
   "version": "3.9.12"
  }
 },
 "nbformat": 4,
 "nbformat_minor": 5
}
