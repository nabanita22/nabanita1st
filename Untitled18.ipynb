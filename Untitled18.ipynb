{
 "cells": [
  {
   "cell_type": "markdown",
   "id": "157b6162",
   "metadata": {},
   "source": [
    "# 1. In the below elements which of them are values or an expression? eg:- values can be\n",
    "# integer or string and expressions will be mathematical operators.\n",
    "## *\n",
    "##  \"hello\";\n",
    "## -87.8\n",
    "## -\n",
    "## /\n",
    "## +\n",
    "## 6"
   ]
  },
  {
   "cell_type": "markdown",
   "id": "d2cb1817",
   "metadata": {},
   "source": [
    "# answer\n",
    "- values are : \"hello\"(string),-87.8(float),6(int)\n",
    "- expressions are: *,-,/,+"
   ]
  },
  {
   "cell_type": "markdown",
   "id": "9ed0c164",
   "metadata": {},
   "source": [
    "# 2. What is the difference between string and variable?"
   ]
  },
  {
   "cell_type": "markdown",
   "id": "63ee5d8e",
   "metadata": {},
   "source": [
    "# answer\n",
    "\n",
    "- string is a set of unicode charecters in python something written in a \" \" ,is considered to be string.variable is like a holding pot,that can hold various of charecters within it,and the value gets saved in ram,so we can use it further."
   ]
  },
  {
   "cell_type": "markdown",
   "id": "87e4c676",
   "metadata": {},
   "source": [
    "# 3. Describe three different data types."
   ]
  },
  {
   "cell_type": "markdown",
   "id": "fadab329",
   "metadata": {},
   "source": [
    "# answer\n",
    "\n",
    "- text type: string\n",
    "- numeric type: int,float,comple\n",
    "- sequence type: list,tuple,range\n",
    "- mapping type: dict"
   ]
  },
  {
   "cell_type": "markdown",
   "id": "d0f5929a",
   "metadata": {},
   "source": [
    "# 4. What is an expression made up of? What do all expressions do?"
   ]
  },
  {
   "cell_type": "markdown",
   "id": "02438957",
   "metadata": {},
   "source": [
    "- An expression is a combination of values, variables, operators, and calls to functions. Expressions need to be evaluated. If you ask Python to print an expression, the interpreter evaluates the expression and displays the result."
   ]
  },
  {
   "cell_type": "markdown",
   "id": "deed832c",
   "metadata": {},
   "source": [
    "# 5. This assignment statements, like spam = 10. What is the difference between an\n",
    "# expression and a statement?"
   ]
  },
  {
   "cell_type": "markdown",
   "id": "da7ba496",
   "metadata": {},
   "source": [
    "- An expression is something that can be reduced to a value, for example \"1+3\" is an expression, but \"foo = 1+3\" is not. If it doesn't work, it's a statement, if it does, it's an expression. as it cannot be reduced to a value."
   ]
  },
  {
   "cell_type": "markdown",
   "id": "a84b63d0",
   "metadata": {},
   "source": [
    "# 6. After running the following code, what does the variable bacon contain?\n",
    "## bacon = 22\n",
    "## bacon + 1"
   ]
  },
  {
   "cell_type": "markdown",
   "id": "5414719b",
   "metadata": {},
   "source": [
    "- the value of bacon will be 23."
   ]
  },
  {
   "cell_type": "markdown",
   "id": "05ad47d8",
   "metadata": {},
   "source": [
    "# 7. What should the values of the following two terms be?\n",
    "# \"spam\"+ \"spamspam\"\n",
    "# \"spam\" * 3"
   ]
  },
  {
   "cell_type": "code",
   "execution_count": 2,
   "id": "d94a555f",
   "metadata": {},
   "outputs": [
    {
     "name": "stdout",
     "output_type": "stream",
     "text": [
      "spam spamspam\n",
      "spamspamspam\n"
     ]
    }
   ],
   "source": [
    "a=\"spam\"+\" spamspam\"\n",
    "b=\"spam\"*3\n",
    "\n",
    "print(a)\n",
    "\n",
    "print(b)"
   ]
  },
  {
   "cell_type": "markdown",
   "id": "105220d4",
   "metadata": {},
   "source": [
    "# 8. Why is eggs a valid variable name while 100 is invalid?"
   ]
  },
  {
   "cell_type": "markdown",
   "id": "d9f19a63",
   "metadata": {},
   "source": [
    "- python takes string as valid variable name but variable name cant be started with any integer."
   ]
  },
  {
   "cell_type": "markdown",
   "id": "b81269d2",
   "metadata": {},
   "source": [
    "# 9. What three functions can be used to get the integer, floating-point number, or string\n",
    "# version of a value?"
   ]
  },
  {
   "cell_type": "markdown",
   "id": "533d3f51",
   "metadata": {},
   "source": [
    "a= \" \" #(string)\n",
    "\n",
    "a=int() #(integer value)\n",
    "\n",
    "a=float() #(float value)"
   ]
  },
  {
   "cell_type": "markdown",
   "id": "c17e474b",
   "metadata": {},
   "source": [
    "# 10. Why does this expression cause an error? How can you fix it?\n",
    "# \"I have eaten\" + 99 + \"burritos.\""
   ]
  },
  {
   "cell_type": "code",
   "execution_count": 7,
   "id": "94b19113",
   "metadata": {},
   "outputs": [
    {
     "name": "stdout",
     "output_type": "stream",
     "text": [
      "i have eaten 99 burritos\n"
     ]
    }
   ],
   "source": [
    "a=\"i have eaten\"+\" 99\"+\" burritos\"\n",
    "print(a)"
   ]
  },
  {
   "cell_type": "code",
   "execution_count": 6,
   "id": "c7a57115",
   "metadata": {},
   "outputs": [
    {
     "name": "stdout",
     "output_type": "stream",
     "text": [
      "i have eaten 99 burritos.\n"
     ]
    }
   ],
   "source": [
    "a=\"i have eaten \"+str(99)+\" burritos.\"\n",
    "\n",
    "print(a)"
   ]
  },
  {
   "cell_type": "markdown",
   "id": "48f2af97",
   "metadata": {},
   "source": []
  }
 ],
 "metadata": {
  "kernelspec": {
   "display_name": "Python 3 (ipykernel)",
   "language": "python",
   "name": "python3"
  },
  "language_info": {
   "codemirror_mode": {
    "name": "ipython",
    "version": 3
   },
   "file_extension": ".py",
   "mimetype": "text/x-python",
   "name": "python",
   "nbconvert_exporter": "python",
   "pygments_lexer": "ipython3",
   "version": "3.9.12"
  }
 },
 "nbformat": 4,
 "nbformat_minor": 5
}
