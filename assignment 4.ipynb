{
 "cells": [
  {
   "cell_type": "markdown",
   "id": "5b8eb10f",
   "metadata": {},
   "source": [
    "# 1. What exactly is []?"
   ]
  },
  {
   "cell_type": "markdown",
   "id": "c4b9c190",
   "metadata": {},
   "source": [
    "- a list"
   ]
  },
  {
   "cell_type": "markdown",
   "id": "4c9e0d53",
   "metadata": {},
   "source": [
    "# 2. In a list of values stored in a variable called spam, how would you assign the value &#39;hello&#39; as the\n",
    "# third value? (Assume [2, 4, 6, 8, 10] are in spam.)"
   ]
  },
  {
   "cell_type": "code",
   "execution_count": 2,
   "id": "7fbf28dd",
   "metadata": {},
   "outputs": [
    {
     "name": "stdout",
     "output_type": "stream",
     "text": [
      "[2, 4, 'hello', 6, 8, 10]\n"
     ]
    }
   ],
   "source": [
    "spam=[2,4,6,8,10]\n",
    "\n",
    "spam.insert(2,\"hello\")\n",
    "\n",
    "print(spam)"
   ]
  },
  {
   "cell_type": "markdown",
   "id": "f0312522",
   "metadata": {},
   "source": [
    "# Let&#39;s pretend the spam includes the list [\"a\", \"b\",\"c\",\"d\"] for the next three queries.\n",
    "# 3. What is the value of spam[int(int('3'* 2) / 11)]?\n",
    "# 4. What is the value of spam[-1]?\n",
    "# 5. What is the value of spam[:2]?"
   ]
  },
  {
   "cell_type": "code",
   "execution_count": 3,
   "id": "b9ea35e6",
   "metadata": {},
   "outputs": [
    {
     "data": {
      "text/plain": [
       "'d'"
      ]
     },
     "execution_count": 3,
     "metadata": {},
     "output_type": "execute_result"
    }
   ],
   "source": [
    "3)\n",
    "spam=[\"a\",\"b\",\"c\",\"d\"]\n",
    "\n",
    "spam[int(int('3'*2)/11)]"
   ]
  },
  {
   "cell_type": "markdown",
   "id": "79007952",
   "metadata": {},
   "source": [
    "- 4) \"d\""
   ]
  },
  {
   "cell_type": "code",
   "execution_count": 4,
   "id": "d36f0077",
   "metadata": {},
   "outputs": [
    {
     "data": {
      "text/plain": [
       "['a', 'b']"
      ]
     },
     "execution_count": 4,
     "metadata": {},
     "output_type": "execute_result"
    }
   ],
   "source": [
    "spam[:2]"
   ]
  },
  {
   "cell_type": "markdown",
   "id": "b757c562",
   "metadata": {},
   "source": [
    "# Let's pretend bacon has the list [3.14,'cat', 11,'cat', True] for the next three questions.\n",
    "# 6. What is the value of bacon.index('cat')?\n",
    "# 7. How does bacon.append(99) change the look of the list value in bacon?\n",
    "# 8. How does bacon.remove('cat') change the look of the list in bacon?"
   ]
  },
  {
   "cell_type": "code",
   "execution_count": 5,
   "id": "d671d9e8",
   "metadata": {},
   "outputs": [
    {
     "data": {
      "text/plain": [
       "1"
      ]
     },
     "execution_count": 5,
     "metadata": {},
     "output_type": "execute_result"
    }
   ],
   "source": [
    "bacon=[3.14,\"cat\",11,\"cat\",True]\n",
    "\n",
    "bacon.index(\"cat\")"
   ]
  },
  {
   "cell_type": "markdown",
   "id": "f00515e8",
   "metadata": {},
   "source": [
    "- 6) it will tale the 1st occurance."
   ]
  },
  {
   "cell_type": "markdown",
   "id": "9eefca38",
   "metadata": {},
   "source": [
    "- 7) bacon=[3.14,\"cat\",11,\"cat\",True,99]"
   ]
  },
  {
   "cell_type": "code",
   "execution_count": 8,
   "id": "3d4061b9",
   "metadata": {},
   "outputs": [
    {
     "name": "stdout",
     "output_type": "stream",
     "text": [
      "[3.14, 11, True]\n"
     ]
    }
   ],
   "source": [
    "#question num 8\n",
    "bacon.remove(\"cat\")\n",
    "\n",
    "print(bacon)"
   ]
  },
  {
   "cell_type": "markdown",
   "id": "567d6ebf",
   "metadata": {},
   "source": [
    "# 9. What are the list concatenation and list replication operators?"
   ]
  },
  {
   "cell_type": "code",
   "execution_count": 9,
   "id": "9d73dfe9",
   "metadata": {},
   "outputs": [
    {
     "name": "stdout",
     "output_type": "stream",
     "text": [
      "[1, 2, 3, 'a', 'b', 'c']\n"
     ]
    }
   ],
   "source": [
    "l1=[1,2,3]\n",
    "l2=[\"a\",\"b\",\"c\"]\n",
    "\n",
    "l=l1+l2\n",
    "\n",
    "print(l) #list concatination"
   ]
  },
  {
   "cell_type": "code",
   "execution_count": 10,
   "id": "04ef3f69",
   "metadata": {},
   "outputs": [
    {
     "name": "stdout",
     "output_type": "stream",
     "text": [
      "[1, 2, 3, 1, 2, 3, 1, 2, 3, 1, 2, 3]\n"
     ]
    }
   ],
   "source": [
    "l1=[1,2,3]\n",
    "\n",
    "l=l1*4\n",
    "\n",
    "print(l) #list replicator"
   ]
  },
  {
   "cell_type": "markdown",
   "id": "f91bb50d",
   "metadata": {},
   "source": [
    "# 10. What is difference between the list methods append() and insert()?"
   ]
  },
  {
   "cell_type": "markdown",
   "id": "60e90f1e",
   "metadata": {},
   "source": [
    "- append adds any element at the end of the list,where insert adds any element at a particular index."
   ]
  },
  {
   "cell_type": "markdown",
   "id": "cf36720b",
   "metadata": {},
   "source": [
    "# 11. What are the two methods for removing items from a list?"
   ]
  },
  {
   "cell_type": "markdown",
   "id": "af706d30",
   "metadata": {},
   "source": [
    "pop(),remove() and del()"
   ]
  },
  {
   "cell_type": "markdown",
   "id": "56fc843a",
   "metadata": {},
   "source": [
    "# 12. Describe how list values and string values are identical."
   ]
  },
  {
   "cell_type": "markdown",
   "id": "a6179447",
   "metadata": {},
   "source": [
    "by using split() function we can convert string to list. \n",
    "we can do many functions on the list values that can be applied also for any string value."
   ]
  },
  {
   "cell_type": "markdown",
   "id": "855933a5",
   "metadata": {},
   "source": [
    "# 13. What's the difference between tuples and lists?"
   ]
  },
  {
   "cell_type": "markdown",
   "id": "4d893d23",
   "metadata": {},
   "source": [
    "- tuples () is immutable.\n",
    "- list [] is mutable."
   ]
  },
  {
   "cell_type": "markdown",
   "id": "c4cd1660",
   "metadata": {},
   "source": [
    "# 14. How do you type a tuple value that only contains the integer 42?"
   ]
  },
  {
   "cell_type": "markdown",
   "id": "0d7d5adc",
   "metadata": {},
   "source": [
    "tup=(42)"
   ]
  },
  {
   "cell_type": "markdown",
   "id": "55087f72",
   "metadata": {},
   "source": [
    "# 15. How do you get a list value's tuple form? How do you get a tuple value's list form?"
   ]
  },
  {
   "cell_type": "code",
   "execution_count": 12,
   "id": "37da7376",
   "metadata": {},
   "outputs": [
    {
     "name": "stdout",
     "output_type": "stream",
     "text": [
      "[1, 2, 3, 'nabanita', 6, 8, 'saha']\n"
     ]
    }
   ],
   "source": [
    "tup=(1,2,3,\"nabanita\",6,8,\"saha\")\n",
    "\n",
    "l=list(tup)\n",
    "\n",
    "print(l)"
   ]
  },
  {
   "cell_type": "code",
   "execution_count": 13,
   "id": "e692cf11",
   "metadata": {},
   "outputs": [
    {
     "name": "stdout",
     "output_type": "stream",
     "text": [
      "(1, 2, 3, 'nabanita', 6, 8, 'saha')\n"
     ]
    }
   ],
   "source": [
    "l1=[1, 2, 3, 'nabanita', 6, 8, 'saha']\n",
    "\n",
    "t=tuple(l1)\n",
    "\n",
    "print(t)"
   ]
  },
  {
   "cell_type": "markdown",
   "id": "1106f738",
   "metadata": {},
   "source": [
    "# 16. Variables that &quot;contain&quot; list values are not necessarily lists themselves. Instead, what do they\n",
    "# contain?"
   ]
  },
  {
   "cell_type": "code",
   "execution_count": null,
   "id": "d89a2f2c",
   "metadata": {},
   "outputs": [],
   "source": [
    "###########################################################################################################"
   ]
  },
  {
   "cell_type": "markdown",
   "id": "b2507cf4",
   "metadata": {},
   "source": []
  },
  {
   "cell_type": "markdown",
   "id": "b6e164c4",
   "metadata": {},
   "source": [
    "# 17. How do you distinguish between copy.copy() and copy.deepcopy()?"
   ]
  },
  {
   "cell_type": "markdown",
   "id": "2580b1ff",
   "metadata": {},
   "source": [
    "for copying in normal list we use copy.copy(), for copying in nested list we use copy.deepcopy()."
   ]
  },
  {
   "cell_type": "code",
   "execution_count": null,
   "id": "80e44769",
   "metadata": {},
   "outputs": [],
   "source": []
  }
 ],
 "metadata": {
  "kernelspec": {
   "display_name": "Python 3 (ipykernel)",
   "language": "python",
   "name": "python3"
  },
  "language_info": {
   "codemirror_mode": {
    "name": "ipython",
    "version": 3
   },
   "file_extension": ".py",
   "mimetype": "text/x-python",
   "name": "python",
   "nbconvert_exporter": "python",
   "pygments_lexer": "ipython3",
   "version": "3.9.12"
  }
 },
 "nbformat": 4,
 "nbformat_minor": 5
}
